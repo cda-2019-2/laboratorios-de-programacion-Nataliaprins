{
 "cells": [
  {
   "cell_type": "code",
   "execution_count": 6,
   "metadata": {},
   "outputs": [
    {
     "name": "stdout",
     "output_type": "stream",
     "text": [
      "##\n",
      "##  Tarea de prueba\n",
      "##  ===========================================================================\n",
      "##\n",
      "##  Escriba una sentencia en Python que imprima \"Hola mundo!\"\n",
      "##\n",
      "##  >>> Escriba su codigo a partir de este punto <<<\n",
      "##\n",
      "print (\"Hola mundo!\")\n"
     ]
    }
   ],
   "source": [
    "!cat question.py"
   ]
  },
  {
   "cell_type": "code",
   "execution_count": 8,
   "metadata": {},
   "outputs": [
    {
     "name": "stdout",
     "output_type": "stream",
     "text": [
      "#! /usr/local/bin/python3\n",
      "r\"\"\"Test cases\n",
      ">>> run_answer()\n",
      "Hola mundo!\n",
      "\n",
      "\"\"\"\n",
      "import doctest\n",
      "import subprocess\n",
      "\n",
      "def run_answer():\n",
      "    '''Codigo especifico para ejecutar la respuesta'''\n",
      "    #----------------------------------------------------------------------------------------------\n",
      "    # Ejecuta el c��digo del estudiante\n",
      "    #----------------------------------------------------------------------------------------------\n",
      "    answer = open('question.py', 'rt', encoding='utf-8').readlines()\n",
      "    answer = [row for row in  answer if len(row) >= 2 and row[0:2] != '##']\n",
      "    answer = '\\n'.join(answer)\n",
      "    return exec(answer)\n",
      "\n",
      "#--------------------------------------------------------------------------------------------------\n",
      "# Grader (generic)\n",
      "#--------------------------------------------------------------------------------------------------\n",
      "subprocess.run(['rm', '-f', '_SUCCESS']) # borra el flag de exito de la corrida\n",
      "RESULT = doctest.testmod()               # ejecuta el doctest\n",
      "FAIL, _ = RESULT                         # fail, total\n",
      "if FAIL == 0:                            # grading\n",
      "    open('_SUCCESS', 'a').close()        #\n",
      "else:\n",
      "    print('\\n')\n",
      "#--------------------------------------------------------------------------------------------------\n"
     ]
    }
   ],
   "source": [
    "!cat grader"
   ]
  },
  {
   "cell_type": "code",
   "execution_count": null,
   "metadata": {},
   "outputs": [],
   "source": []
  }
 ],
 "metadata": {
  "kernelspec": {
   "display_name": "Python 3",
   "language": "python",
   "name": "python3"
  },
  "language_info": {
   "codemirror_mode": {
    "name": "ipython",
    "version": 3
   },
   "file_extension": ".py",
   "mimetype": "text/x-python",
   "name": "python",
   "nbconvert_exporter": "python",
   "pygments_lexer": "ipython3",
   "version": "3.6.8"
  }
 },
 "nbformat": 4,
 "nbformat_minor": 4
}
